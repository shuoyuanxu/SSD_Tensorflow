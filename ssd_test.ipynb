{
 "cells": [
  {
   "cell_type": "code",
   "execution_count": 1,
   "metadata": {
    "collapsed": true
   },
   "outputs": [],
   "source": [
    "import tensorflow as tf\n",
    "import math\n",
    "# from datasets import fishes\n",
    "from datasets import dataset_factory\n"
   ]
  },
  {
   "cell_type": "code",
   "execution_count": null,
   "metadata": {
    "collapsed": false
   },
   "outputs": [],
   "source": []
  },
  {
   "cell_type": "code",
   "execution_count": 16,
   "metadata": {
    "collapsed": false
   },
   "outputs": [],
   "source": [
    "slim = tf.contrib.slim\n",
    "\n",
    "with tf.Graph().as_default():\n",
    "    dataset = dataset_factory.get_dataset(\n",
    "                \"fishes\", \"validation\", \"tmp/fish/dataset\")\n",
    "    num_readers = 5\n",
    "    batch_size = 4\n",
    "    provider = slim.dataset_data_provider.DatasetDataProvider(\n",
    "                        dataset,\n",
    "                        num_readers=num_readers,\n",
    "                        common_queue_capacity=20 * batch_size,\n",
    "                        common_queue_min=10 * batch_size,\n",
    "                        shuffle=True)\n",
    "    image, label, bboxes, name = provider.get(['image', 'object/label', 'object/bbox', 'name'])\n",
    "    images, labels, bboxes, name = tf.train.batch(\n",
    "          [image, label, bboxes, name],\n",
    "          batch_size=batch_size,\n",
    "          num_threads=1,\n",
    "          capacity=2 * batch_size,\n",
    "          dynamic_pad=True)\n",
    "    with tf.Session() as sess:\n",
    "        with slim.queues.QueueRunners(sess):\n",
    "            sess.run(tf.local_variables_initializer())\n",
    "            np_images, np_bboxes, labels, name = sess.run([images, bboxes, labels, name])\n"
   ]
  },
  {
   "cell_type": "code",
   "execution_count": 17,
   "metadata": {
    "collapsed": false
   },
   "outputs": [
    {
     "data": {
      "text/plain": [
       "(4, 750, 1280, 3)"
      ]
     },
     "execution_count": 17,
     "metadata": {},
     "output_type": "execute_result"
    }
   ],
   "source": [
    "np_images.shape"
   ]
  },
  {
   "cell_type": "code",
   "execution_count": 13,
   "metadata": {
    "collapsed": false
   },
   "outputs": [
    {
     "data": {
      "text/plain": [
       "array([[8, 0],\n",
       "       [0, 0],\n",
       "       [1, 0],\n",
       "       [4, 4],\n",
       "       [7, 0],\n",
       "       [1, 0],\n",
       "       [6, 0],\n",
       "       [2, 0]])"
      ]
     },
     "execution_count": 13,
     "metadata": {},
     "output_type": "execute_result"
    }
   ],
   "source": [
    "labels"
   ]
  },
  {
   "cell_type": "code",
   "execution_count": 15,
   "metadata": {
    "collapsed": false
   },
   "outputs": [
    {
     "data": {
      "text/plain": [
       "array([[[ 0.52483332,  0.28860939,  0.71479166,  0.48138282],\n",
       "        [ 0.        ,  0.        ,  0.        ,  0.        ]],\n",
       "\n",
       "       [[ 0.        ,  0.        ,  0.        ,  0.        ],\n",
       "        [ 0.        ,  0.        ,  0.        ,  0.        ]],\n",
       "\n",
       "       [[ 0.77980757,  0.45624569,  0.82234251,  0.51701206],\n",
       "        [ 0.        ,  0.        ,  0.        ,  0.        ]],\n",
       "\n",
       "       [[ 0.175     ,  0.41249999,  0.70694447,  0.75859374],\n",
       "        [ 0.61250001,  0.66562498,  0.9847222 ,  0.890625  ]],\n",
       "\n",
       "       [[ 0.18133333,  0.27109376,  0.53866667,  0.6640625 ],\n",
       "        [ 0.        ,  0.        ,  0.        ,  0.        ]],\n",
       "\n",
       "       [[ 0.49448863,  0.40294594,  0.76240551,  0.49507445],\n",
       "        [ 0.        ,  0.        ,  0.        ,  0.        ]],\n",
       "\n",
       "       [[ 0.59444445,  0.27656251,  0.69722223,  0.45468751],\n",
       "        [ 0.        ,  0.        ,  0.        ,  0.        ]],\n",
       "\n",
       "       [[ 0.40554416,  0.22890624,  0.78131419,  0.36328125],\n",
       "        [ 0.        ,  0.        ,  0.        ,  0.        ]]], dtype=float32)"
      ]
     },
     "execution_count": 15,
     "metadata": {},
     "output_type": "execute_result"
    }
   ],
   "source": [
    "np_bboxes"
   ]
  },
  {
   "cell_type": "code",
   "execution_count": null,
   "metadata": {
    "collapsed": false
   },
   "outputs": [],
   "source": []
  },
  {
   "cell_type": "code",
   "execution_count": null,
   "metadata": {
    "collapsed": true
   },
   "outputs": [],
   "source": []
  }
 ],
 "metadata": {
  "anaconda-cloud": {},
  "kernelspec": {
   "display_name": "Python [Root]",
   "language": "python",
   "name": "Python [Root]"
  },
  "language_info": {
   "codemirror_mode": {
    "name": "ipython",
    "version": 3
   },
   "file_extension": ".py",
   "mimetype": "text/x-python",
   "name": "python",
   "nbconvert_exporter": "python",
   "pygments_lexer": "ipython3",
   "version": "3.5.2"
  }
 },
 "nbformat": 4,
 "nbformat_minor": 0
}
